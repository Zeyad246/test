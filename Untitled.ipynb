{
 "cells": [
  {
   "cell_type": "code",
   "execution_count": 1,
   "id": "28708872-4bf4-4af8-bef1-5a068f1230e3",
   "metadata": {},
   "outputs": [
    {
     "name": "stdout",
     "output_type": "stream",
     "text": [
      "Writing app7.py\n"
     ]
    }
   ],
   "source": [
    "%%writefile app7.py\n",
    "import streamlit as  st\n",
    "import pandas as pd \n",
    "import plotly.express as px\n",
    "st.set_page_config(layout='wide')\n",
    "df=px.data.tips()\n",
    "col1 , col2 = st.columns(2)\n",
    "with col1 :\n",
    "    st.plotly_chart(px.histogram(data_frame=df  , x='total_bill' , y='sex'))\n",
    "    st.plotly_chart(px.histogram(data_frame=df  , x='day' , y='total_bill'))\n",
    "with col2 :\n",
    "    st.plotly_chart(px.histogram(data_frame=df , x='total_bill' , y='tip'))\n",
    "    st.plotly_chart(px.histogram(data_frame=df  , x='time' , y='total_bill'))\n",
    "    "
   ]
  },
  {
   "cell_type": "code",
   "execution_count": null,
   "id": "9df31071-bb29-4a6c-bb56-d8c882cee0ea",
   "metadata": {},
   "outputs": [],
   "source": [
    "! streamlit run app7.py"
   ]
  },
  {
   "cell_type": "code",
   "execution_count": null,
   "id": "070d53a5-03dc-44a7-8187-9a190e7ca1d1",
   "metadata": {},
   "outputs": [],
   "source": []
  }
 ],
 "metadata": {
  "kernelspec": {
   "display_name": "Python 3 (ipykernel)",
   "language": "python",
   "name": "python3"
  },
  "language_info": {
   "codemirror_mode": {
    "name": "ipython",
    "version": 3
   },
   "file_extension": ".py",
   "mimetype": "text/x-python",
   "name": "python",
   "nbconvert_exporter": "python",
   "pygments_lexer": "ipython3",
   "version": "3.12.0"
  }
 },
 "nbformat": 4,
 "nbformat_minor": 5
}
